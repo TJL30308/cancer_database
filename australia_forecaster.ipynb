{
 "cells": [
  {
   "cell_type": "code",
   "execution_count": 1,
   "metadata": {},
   "outputs": [],
   "source": [
    "import pandas as pd\n",
    "import math\n",
    "import numpy as np\n",
    "import scipy.stats as stats\n",
    "import plotly as py\n",
    "import plotly.graph_objs as go\n",
    "import plotly.express as px\n",
    "\n",
    "incidence_data = pd.read_excel('../raw_data/australia/aihw-can-122-cancer_incidence.xlsx')\n",
    "population_data = pd.read_csv('../population_data/USCB_Australia.csv', header=1, sep=r'\\s*,\\s*', engine='python')"
   ]
  },
  {
   "cell_type": "code",
   "execution_count": 2,
   "metadata": {},
   "outputs": [
    {
     "name": "stdout",
     "output_type": "stream",
     "text": [
      "Index Error for C81–C96, D45, D46, D47.1, D47.3–D47.5\n",
      "Index Error for C53\n",
      "Index Error for C51–C58\n",
      "Index Error for D46\n",
      "Index Error for C44\n",
      "Index Error for C56\n",
      "Index Error for C54–C55\n",
      "Index Error for C52\n",
      "Index Error for C51\n",
      "Index Error for nan\n",
      "Process Completed\n"
     ]
    }
   ],
   "source": [
    "codes = incidence_data['ICD10 codes'].unique()\n",
    "actual_incidence = incidence_data[incidence_data['Data type'] == 'Actual'].reset_index(drop = True)\n",
    "\n",
    "for code in codes:\n",
    "    try:\n",
    "        code = code\n",
    "        code_df = actual_incidence[actual_incidence['ICD10 codes'] == code]\n",
    "        gender = 'Males'\n",
    "        population_gender = 'Male'\n",
    "        age_group = 'All ages'\n",
    "        population_ages = 'Total'\n",
    "\n",
    "        gender_incidence = code_df[code_df['Sex'] == gender]\n",
    "\n",
    "        gender_allages_incidence_df = gender_incidence[gender_incidence['Age group (years)'] == age_group]\n",
    "\n",
    "        select_years_rates = gender_allages_incidence_df.iloc[27:].reset_index(drop = True)\n",
    "        rates = select_years_rates['Age-specific rate\\n(per 100,000)']\n",
    "        gender_population_select_years = population_data.loc[population_data['Age'] == population_ages].iloc[0:8][f'{population_gender} Population'].reset_index(drop = True)\n",
    "        cases = [math.floor(rates[i] / 100000 * gender_population_select_years[i]) for i in range(len(gender_population_select_years))]\n",
    "\n",
    "        rates = np.array(gender_allages_incidence_df['Age-specific rate\\n(per 100,000)']).astype(float)\n",
    "        years = np.array(gender_allages_incidence_df['Year']).astype(float)\n",
    "\n",
    "        slope, intercept, r_value, p_value, std_err = stats.linregress(years,rates)\n",
    "\n",
    "        fig = px.line(x=years, y=rates, title=f'Australia, {code} Incidence, {gender}, {age_group}')\n",
    "\n",
    "        fig.update_layout(yaxis=dict(range=[0,max(rates) + 1]))\n",
    "\n",
    "        fig.update_layout(\n",
    "            xaxis_title=\"Year\",\n",
    "            yaxis_title=\"Incidence (Cases per 100,000)\",\n",
    "            plot_bgcolor='rgba(0,0,0,0)',\n",
    "            autosize=False,\n",
    "                width=800,\n",
    "                height=600)\n",
    "\n",
    "        #fig.show()\n",
    "        fig.write_image(f'plots/incidence/incidence_{code}_{gender}_{age_group}.png')\n",
    "        \n",
    "    except IndexError:\n",
    "        print(f'Index Error for {code}')\n",
    "        \n",
    "print('Process Completed')"
   ]
  },
  {
   "cell_type": "code",
   "execution_count": null,
   "metadata": {},
   "outputs": [],
   "source": []
  }
 ],
 "metadata": {
  "kernelspec": {
   "display_name": "Python 3",
   "language": "python",
   "name": "python3"
  },
  "language_info": {
   "codemirror_mode": {
    "name": "ipython",
    "version": 3
   },
   "file_extension": ".py",
   "mimetype": "text/x-python",
   "name": "python",
   "nbconvert_exporter": "python",
   "pygments_lexer": "ipython3",
   "version": "3.8.0"
  }
 },
 "nbformat": 4,
 "nbformat_minor": 2
}
